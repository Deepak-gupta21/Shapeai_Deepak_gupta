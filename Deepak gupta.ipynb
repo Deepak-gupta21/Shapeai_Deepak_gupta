{
  "nbformat": 4,
  "nbformat_minor": 0,
  "metadata": {
    "colab": {
      "name": "Untitled6.ipynb",
      "provenance": [],
      "collapsed_sections": []
    },
    "kernelspec": {
      "name": "python3",
      "display_name": "Python 3"
    },
    "language_info": {
      "name": "python"
    }
  },
  "cells": [
    {
      "cell_type": "code",
      "metadata": {
        "id": "wcGTB9TPn8iX"
      },
      "source": [
        " \n",
        "from keras.datasets import mnist\n",
        " \n",
        "data = mnist.load_data()"
      ],
      "execution_count": null,
      "outputs": []
    },
    {
      "cell_type": "code",
      "metadata": {
        "id": "aZwzDk0soDf1"
      },
      "source": [
        " \n",
        "(X_train,y_train),(X_test,y_test) = data"
      ],
      "execution_count": null,
      "outputs": []
    },
    {
      "cell_type": "code",
      "metadata": {
        "id": "BID53bg-oRK4"
      },
      "source": [
        " \n",
        "X_train = X_train.reshape((X_train.shape[0],28*28)).astype('float32')\n",
        " \n",
        "X_test = X_test.reshape((X_test.shape[0],28*28)).astype('float32')"
      ],
      "execution_count": null,
      "outputs": []
    },
    {
      "cell_type": "code",
      "metadata": {
        "id": "NxEsCjhqpHbh"
      },
      "source": [
        "X_train=X_train/255 \n",
        "X_test=X_test/255"
      ],
      "execution_count": null,
      "outputs": []
    },
    {
      "cell_type": "code",
      "metadata": {
        "colab": {
          "base_uri": "https://localhost:8080/"
        },
        "id": "zNm7mGhEpiwg",
        "outputId": "79fada89-0c1f-4ef3-f2a7-3831e2d1ce5d"
      },
      "source": [
        " \n",
        "from keras.utils import np_utils\n",
        " \n",
        "print(y_test.shape)"
      ],
      "execution_count": null,
      "outputs": [
        {
          "output_type": "stream",
          "text": [
            "(10000,)\n"
          ],
          "name": "stdout"
        }
      ]
    },
    {
      "cell_type": "code",
      "metadata": {
        "colab": {
          "base_uri": "https://localhost:8080/"
        },
        "id": "fKN1QnQhpjpx",
        "outputId": "b78985ef-0217-4dcb-8860-ce36c16b87df"
      },
      "source": [
        " \n",
        "y_train = np_utils.to_categorical(y_train)\n",
        "y_test = np_utils.to_categorical (y_test)\n",
        " \n",
        " \n",
        "num_classes = y_test.shape [1]\n",
        " \n",
        "print(y_test.shape)"
      ],
      "execution_count": null,
      "outputs": [
        {
          "output_type": "stream",
          "text": [
            "(10000, 10)\n"
          ],
          "name": "stdout"
        }
      ]
    },
    {
      "cell_type": "code",
      "metadata": {
        "id": "RCQphC0Gpj6-"
      },
      "source": [
        " \n",
        "from keras.models import Sequential\n",
        " \n",
        "from keras.layers import Dense\n",
        " \n",
        "model = Sequential()\n",
        " \n",
        "model.add(Dense(32, input_dim = 28*28, activation='relu'))\n",
        " \n",
        "model.add(Dense(64, activation='relu'))\n",
        " \n",
        "model.add(Dense(10, activation='softmax'))"
      ],
      "execution_count": null,
      "outputs": []
    },
    {
      "cell_type": "code",
      "metadata": {
        "id": "sUGfEjcapwIi"
      },
      "source": [
        " model.compile(loss='categorical_crossentropy', optimizer='adam', metrics=['accuracy'])"
      ],
      "execution_count": null,
      "outputs": []
    },
    {
      "cell_type": "code",
      "metadata": {
        "colab": {
          "base_uri": "https://localhost:8080/"
        },
        "id": "zhNLPibGp0OO",
        "outputId": "ba657cda-9cf2-4bef-e5fc-b9d6458b93de"
      },
      "source": [
        " \n",
        "model.summary()"
      ],
      "execution_count": null,
      "outputs": [
        {
          "output_type": "stream",
          "text": [
            "Model: \"sequential\"\n",
            "_________________________________________________________________\n",
            "Layer (type)                 Output Shape              Param #   \n",
            "=================================================================\n",
            "dense (Dense)                (None, 32)                25120     \n",
            "_________________________________________________________________\n",
            "dense_1 (Dense)              (None, 64)                2112      \n",
            "_________________________________________________________________\n",
            "dense_2 (Dense)              (None, 10)                650       \n",
            "=================================================================\n",
            "Total params: 27,882\n",
            "Trainable params: 27,882\n",
            "Non-trainable params: 0\n",
            "_________________________________________________________________\n"
          ],
          "name": "stdout"
        }
      ]
    },
    {
      "cell_type": "code",
      "metadata": {
        "colab": {
          "base_uri": "https://localhost:8080/"
        },
        "id": "WXlHtfSbpkFQ",
        "outputId": "edff2f93-54fe-444b-85ee-4841a3286224"
      },
      "source": [
        " model.fit(X_train,y_train,epochs=10,batch_size=10)"
      ],
      "execution_count": null,
      "outputs": [
        {
          "output_type": "stream",
          "text": [
            "Epoch 1/10\n",
            "6000/6000 [==============================] - 9s 1ms/step - loss: 0.4473 - accuracy: 0.8686\n",
            "Epoch 2/10\n",
            "6000/6000 [==============================] - 8s 1ms/step - loss: 0.1460 - accuracy: 0.9559\n",
            "Epoch 3/10\n",
            "6000/6000 [==============================] - 8s 1ms/step - loss: 0.1118 - accuracy: 0.9655\n",
            "Epoch 4/10\n",
            "6000/6000 [==============================] - 8s 1ms/step - loss: 0.0931 - accuracy: 0.9706\n",
            "Epoch 5/10\n",
            "6000/6000 [==============================] - 8s 1ms/step - loss: 0.0799 - accuracy: 0.9750\n",
            "Epoch 6/10\n",
            "6000/6000 [==============================] - 8s 1ms/step - loss: 0.0705 - accuracy: 0.9779\n",
            "Epoch 7/10\n",
            "6000/6000 [==============================] - 8s 1ms/step - loss: 0.0621 - accuracy: 0.9799\n",
            "Epoch 8/10\n",
            "6000/6000 [==============================] - 8s 1ms/step - loss: 0.0529 - accuracy: 0.9834\n",
            "Epoch 9/10\n",
            "6000/6000 [==============================] - 8s 1ms/step - loss: 0.0486 - accuracy: 0.9840\n",
            "Epoch 10/10\n",
            "6000/6000 [==============================] - 8s 1ms/step - loss: 0.0445 - accuracy: 0.9859\n"
          ],
          "name": "stdout"
        },
        {
          "output_type": "execute_result",
          "data": {
            "text/plain": [
              "<tensorflow.python.keras.callbacks.History at 0x7f138132c8d0>"
            ]
          },
          "metadata": {
            "tags": []
          },
          "execution_count": 21
        }
      ]
    }
  ]
}